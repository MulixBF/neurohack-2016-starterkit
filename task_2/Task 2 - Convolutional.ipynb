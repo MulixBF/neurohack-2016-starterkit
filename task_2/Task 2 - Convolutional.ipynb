{
 "cells": [
  {
   "cell_type": "code",
   "execution_count": null,
   "metadata": {
    "collapsed": false
   },
   "outputs": [],
   "source": [
    "import numpy as np\n",
    "import scipy as sp\n",
    "import pandas as pd\n",
    "import math as m\n",
    "\n",
    "import scipy.io\n",
    "from scipy.signal import butter, lfilter\n",
    "from scipy.interpolate import griddata\n",
    "from scipy.misc import bytescale\n",
    "\n",
    "from itertools import chain\n",
    "from functools import reduce\n",
    "\n",
    "from sklearn.ensemble import RandomForestClassifier\n",
    "from sklearn.preprocessing import LabelBinarizer, scale\n",
    "from sklearn.metrics import roc_auc_score\n",
    "\n",
    "import re\n",
    "import h5py\n",
    "import csv\n",
    "\n",
    "import matplotlib.pyplot as plt\n",
    "\n",
    "plt.style.use('ggplot')\n",
    "\n",
    "np.random.seed(777)\n",
    "%matplotlib inline"
   ]
  },
  {
   "cell_type": "code",
   "execution_count": 2,
   "metadata": {
    "collapsed": true
   },
   "outputs": [],
   "source": [
    "TRAIN_FILE = \"train.h5\"\n",
    "TEST_FILE = \"test.h5\"\n",
    "SAMPLING_RATE = 250"
   ]
  },
  {
   "cell_type": "code",
   "execution_count": 3,
   "metadata": {
    "collapsed": false
   },
   "outputs": [],
   "source": [
    "CHANNEL_NAMES = np.array(['T5', 'T3', 'F7', 'F3', 'C3', 'P3', 'Fp1', 'Fpz', 'A1', 'O1', 'Cz', 'Oz', 'Fz', 'Pz', 'O2', 'A2', 'Fp2', 'P4', 'C4', 'F4', 'F8', 'T4', 'T6', 'AUX'])\n",
    "CHANNELS_TO_DISCARD = ['A1', 'A2', 'AUX']\n",
    "EYE_CHANNEL = \"Fp1\"\n",
    "CSP_FREQUENCES = [(6,10),(8,12),(10,14),(12,16),(14,18),(16,20),(18,22),(20,24),\n",
    "                     (22,26),(24,28),(26,30),(28,32),(30,34),(32,36),(34,38)]"
   ]
  },
  {
   "cell_type": "code",
   "execution_count": 4,
   "metadata": {
    "collapsed": true
   },
   "outputs": [],
   "source": [
    "def butter_bandpass(lowcut, highcut, sampling_rate, order=5):\n",
    "    \"\"\"\n",
    "    For a given order (5 by default), computes numerator (b)\n",
    "    and denominator (a) polynomials\n",
    "    of the IIR filter (bandpass between lowcut and highcut).\n",
    "    \"\"\"\n",
    "    nyq_freq = sampling_rate*0.5\n",
    "    low = lowcut/nyq_freq\n",
    "    high = highcut/nyq_freq\n",
    "    b, a = butter(order, [low, high], btype='band')\n",
    "    return b, a\n",
    "\n",
    "def butter_high_low_pass(lowcut, highcut, sampling_rate, order=5):\n",
    "    \"\"\"\n",
    "    For a given order (5 by default), computes numerator (b_high, b_low)\n",
    "    and denominator (a_high, a_low) polynomials of the IIR filters\n",
    "    (highpass for lowcut, lowpass for highcut).\n",
    "    \"\"\"\n",
    "    nyq_freq = sampling_rate*0.5\n",
    "    lower_bound = lowcut/nyq_freq\n",
    "    higher_bound = highcut/nyq_freq\n",
    "    b_high, a_high = butter(order, lower_bound, btype='high')\n",
    "    b_low, a_low = butter(order, higher_bound, btype='low')\n",
    "    return b_high, a_high, b_low, a_low\n",
    "\n",
    "def butter_bandpass_filter(data, lowcut, highcut, sampling_rate, order=5, how_to_filt = 'separately'):\n",
    "    \"\"\"\n",
    "    Applies Butterworth bandpass filter (with a given order, 5 by default) to the data.\n",
    "    If how_to_filt = 'separately', applies highpass than lowpass, and thus results\n",
    "        in bandpass between lowcut and highcut.\n",
    "    If how_to_filt == 'simultaneously', applies bandpass directly.\n",
    "    \"\"\"\n",
    "    if how_to_filt == 'separately':\n",
    "        b_high, a_high, b_low, a_low = butter_high_low_pass(lowcut, highcut, sampling_rate, order=order)\n",
    "        y = lfilter(b_high, a_high, data)\n",
    "        y = lfilter(b_low, a_low, y)\n",
    "    elif how_to_filt == 'simultaneously':\n",
    "        b, a = butter_bandpass(lowcut, highcut, sampling_rate, order=order)\n",
    "        y = lfilter(b, a, data)\n",
    "    return y"
   ]
  },
  {
   "cell_type": "code",
   "execution_count": 5,
   "metadata": {
    "collapsed": false
   },
   "outputs": [],
   "source": [
    "def remove_outliers(data, iter_numb):\n",
    "    \"\"\"\n",
    "    Repetitively (specified by iter_numb) applies outliers removal to the data:\n",
    "    deletes samples which power deviates more than 2.5 SDs from the mean.\n",
    "    \"\"\"\n",
    "    data_pwr = np.sqrt(np.sum(data**2, 0))\n",
    "    mask = np.ones(data.shape[1], dtype=np.bool)\n",
    "    for i in range(iter_numb):\n",
    "        X_mean = np.mean(data_pwr[mask])\n",
    "        X_std = np.std(data_pwr[mask])\n",
    "        mask &= np.abs(data_pwr - X_mean) < 2.5*np.abs(X_std)\n",
    "        print('Samples left after outliers removal: %d' % mask.sum())\n",
    "    return mask\n",
    "\n",
    "def remove_eog_simple(data, channel_names, number_artefact_components=3):\n",
    "    \"\"\"\n",
    "    Blinks and eye artefacts removal by singular value decomposition.\n",
    "    \n",
    "    Arguments:\n",
    "    data: EEG data, numpy array [n_channels, n_samples]\n",
    "    eyechan: channel nummer used for artefacts detection\n",
    "    number_artefact_components: number of eigenvalues used - the number\n",
    "       of components the artefacts are presumed to have\n",
    "       \n",
    "    Returns artefact-free EEG time series and the matrix of corresponding transformation\n",
    "    \"\"\"\n",
    "    only_eye_chan = data[channel_names == EYE_CHANNEL, :]\n",
    "    exceed_mask = only_eye_chan > 3*np.mean(np.absolute(only_eye_chan))\n",
    "    print('Number of samples identified as containing eye artefacts: %d' % np.sum(exceed_mask))\n",
    "    U, S, V = np.linalg.svd(data[:, exceed_mask[0,:]], full_matrices=True)\n",
    "    M_eog = np.eye(U.shape[0])-np.dot(U[:,0:number_artefact_components],U[:,0:number_artefact_components].T)\n",
    "    \n",
    "    return np.dot(M_eog, data), M_eog"
   ]
  },
  {
   "cell_type": "code",
   "execution_count": 6,
   "metadata": {
    "collapsed": true
   },
   "outputs": [],
   "source": [
    "def outer_n(n):\n",
    "    return np.array(list(range(n))+list(range(-n,0)))\n",
    "\n",
    "def whitener(C, rtol=1e-15):\n",
    "    e, E = np.linalg.eigh(C)\n",
    "    return reduce(np.dot, [E, np.diag(np.where(e > np.max(e) * rtol, e, np.inf)**-0.5), E.T])\n",
    "\n",
    "def csp_base(C_a, C_b):\n",
    "    P = whitener(C_a + C_b)\n",
    "    P_C_b = reduce(np.dot, [P, C_b, P.T])\n",
    "    _, _, B = np.linalg.svd((P_C_b))\n",
    "    return np.dot(B, P.T)\n",
    "\n",
    "def csp(C_a, C_b, m):\n",
    "    W = csp_base(C_a, C_b)\n",
    "    assert W.shape[1] >= 2*m\n",
    "    return W[outer_n(m)]"
   ]
  },
  {
   "cell_type": "code",
   "execution_count": 7,
   "metadata": {
    "collapsed": false
   },
   "outputs": [],
   "source": [
    "def filter_eeg(eeg_data, sampling_rate, channel_names):\n",
    "    # Prefilter eeg data\n",
    "    eeg_data = butter_bandpass_filter(eeg_data, 0.5, 45, sampling_rate, order=5, how_to_filt='separately')\n",
    "    \n",
    "    # Remove empty channels\n",
    "    # Detect constant (zero) channels\n",
    "    channels_mask = np.ones(len(channel_names), dtype=np.bool)\n",
    "    for channel in CHANNELS_TO_DISCARD:\n",
    "        channels_mask &= (channel_names != channel)\n",
    "        \n",
    "    nozeros_mask = np.sum(eeg_data[:, :sampling_rate * 2], 1) != 0\n",
    "    without_emp_mask = nozeros_mask & channels_mask\n",
    "    \n",
    "    # Remove constant (zero) channels and prespecified channels\n",
    "    eeg_data = eeg_data[without_emp_mask, :]\n",
    "    channel_names = channel_names[without_emp_mask]\n",
    "    \n",
    "    return eeg_data, channel_names"
   ]
  },
  {
   "cell_type": "code",
   "execution_count": 8,
   "metadata": {
    "collapsed": true
   },
   "outputs": [],
   "source": [
    "numbergetter = re.compile(r\"\\d+$\")\n",
    "def get_tail_number(string):\n",
    "    return int(numbergetter.findall(string)[0])"
   ]
  },
  {
   "cell_type": "code",
   "execution_count": 9,
   "metadata": {
    "collapsed": true
   },
   "outputs": [],
   "source": [
    "import mne\n",
    "\n",
    "def load_raw_data(data, selected_channels, montage):\n",
    "    info = mne.create_info(ch_names=list(selected_channels), \n",
    "                           sfreq=SAMPLING_RATE,\n",
    "                           ch_types='eeg',\n",
    "                           montage=montage)\n",
    "    \n",
    "    return mne.io.RawArray(data, info=info)\n",
    "\n",
    "def load_montage_information(filename):\n",
    "    assert filename.endswith('.mat')\n",
    "    \n",
    "    mat = sp.io.loadmat(filename)    \n",
    "    point_labels = [mat[0] for mat in mat['labels']]\n",
    "    point_data = [mat['x_coord'], mat['y_coord'], mat['z_coord']]\n",
    "    points = np.concatenate(point_data, axis=1)\n",
    "    \n",
    "    assert len(points) == len(point_labels)\n",
    "    return mne.channels.Montage(pos=points, ch_names=point_labels, kind=None, selection=range(len(points)))\n",
    "\n",
    "def process_raw_data(eeg_data):\n",
    "    \n",
    "    filtered_eeg, selected_channels = filter_eeg(eeg_data, SAMPLING_RATE, CHANNEL_NAMES)\n",
    "    \n",
    "    # Remove outliers; remove artefacts (blinks, eye movements)\n",
    "    eye_channel_index = (selected_channels == EYE_CHANNEL)\n",
    "    selected_items = remove_outliers(filtered_eeg, 7)\n",
    "    filtered_eeg, M_eog = remove_eog_simple(filtered_eeg, selected_channels)\n",
    "    \n",
    "    return filtered_eeg, selected_channels"
   ]
  },
  {
   "cell_type": "code",
   "execution_count": 10,
   "metadata": {
    "collapsed": false
   },
   "outputs": [
    {
     "data": {
      "image/png": "[encoded data removed]",
      "text/plain": [
       "<matplotlib.figure.Figure at 0x7f621451bac8>"
      ]
     },
     "metadata": {},
     "output_type": "display_data"
    },
    {
     "data": {
      "image/png": "[encoded data removed]",
      "text/plain": [
       "<matplotlib.figure.Figure at 0x7f621451bac8>"
      ]
     },
     "execution_count": 10,
     "metadata": {},
     "output_type": "execute_result"
    }
   ],
   "source": [
    "montage_data = load_montage_information('./electrode_locations_besa_unit_sphere.mat')\n",
    "montage_data.plot()"
   ]
  },
  {
   "cell_type": "code",
   "execution_count": 11,
   "metadata": {
    "collapsed": false
   },
   "outputs": [
    {
     "name": "stdout",
     "output_type": "stream",
     "text": [
      "Samples left after outliers removal: 100390\n",
      "Samples left after outliers removal: 98884\n",
      "Samples left after outliers removal: 95921\n",
      "Samples left after outliers removal: 93717\n",
      "Samples left after outliers removal: 92399\n",
      "Samples left after outliers removal: 91637\n",
      "Samples left after outliers removal: 91217\n",
      "Number of samples identified as containing eye artefacts: 1001\n",
      "Creating RawArray with float64 data, n_channels=20, n_times=100826\n",
      "    Range : 0 ... 100825 =      0.000 ...   403.300 secs\n",
      "Ready.\n",
      "Samples left after outliers removal: 54905\n",
      "Samples left after outliers removal: 54110\n",
      "Samples left after outliers removal: 52485\n",
      "Samples left after outliers removal: 51002\n",
      "Samples left after outliers removal: 49992\n",
      "Samples left after outliers removal: 49364\n",
      "Samples left after outliers removal: 48988\n",
      "Number of samples identified as containing eye artefacts: 929\n",
      "Creating RawArray with float64 data, n_channels=20, n_times=55306\n",
      "    Range : 0 ... 55305 =      0.000 ...   221.220 secs\n",
      "Ready.\n",
      "Samples left after outliers removal: 53104\n",
      "Samples left after outliers removal: 51461\n",
      "Samples left after outliers removal: 50183\n",
      "Samples left after outliers removal: 49349\n",
      "Samples left after outliers removal: 48725\n",
      "Samples left after outliers removal: 48263\n",
      "Samples left after outliers removal: 47933\n",
      "Number of samples identified as containing eye artefacts: 856\n",
      "Creating RawArray with float64 data, n_channels=20, n_times=54457\n",
      "    Range : 0 ... 54456 =      0.000 ...   217.824 secs\n",
      "Ready.\n",
      "Samples left after outliers removal: 100279\n",
      "Samples left after outliers removal: 99330\n",
      "Samples left after outliers removal: 96771\n",
      "Samples left after outliers removal: 94454\n",
      "Samples left after outliers removal: 93038\n",
      "Samples left after outliers removal: 92242\n",
      "Samples left after outliers removal: 91740\n",
      "Number of samples identified as containing eye artefacts: 810\n",
      "Creating RawArray with float64 data, n_channels=20, n_times=100717\n",
      "    Range : 0 ... 100716 =      0.000 ...   402.864 secs\n",
      "Ready.\n"
     ]
    },
    {
     "data": {
      "text/plain": [
       "{'subject_0': {'channels': array(['T5', 'T3', 'F7', 'F3', 'C3', 'P3', 'Fp1', 'Fpz', 'O1', 'Cz', 'Oz',\n",
       "         'Fz', 'O2', 'Fp2', 'P4', 'C4', 'F4', 'F8', 'T4', 'T6'], \n",
       "        dtype='<U3'),\n",
       "  'data': <RawArray  |  None, n_channels x n_times : 20 x 100826 (403.3 sec), ~15.4 MB, data loaded>,\n",
       "  'labels': array([[0, 0, 0, ..., 2, 2, 2]])},\n",
       " 'subject_1': {'channels': array(['T5', 'T3', 'F7', 'F3', 'C3', 'P3', 'Fp1', 'Fpz', 'O1', 'Cz', 'Oz',\n",
       "         'Fz', 'O2', 'Fp2', 'P4', 'C4', 'F4', 'F8', 'T4', 'T6'], \n",
       "        dtype='<U3'),\n",
       "  'data': <RawArray  |  None, n_channels x n_times : 20 x 55306 (221.2 sec), ~8.5 MB, data loaded>,\n",
       "  'labels': array([[2, 2, 2, ..., 2, 2, 2]])},\n",
       " 'subject_2': {'channels': array(['T5', 'T3', 'F7', 'F3', 'C3', 'P3', 'Fp1', 'Fpz', 'O1', 'Cz', 'Oz',\n",
       "         'Fz', 'O2', 'Fp2', 'P4', 'C4', 'F4', 'F8', 'T4', 'T6'], \n",
       "        dtype='<U3'),\n",
       "  'data': <RawArray  |  None, n_channels x n_times : 20 x 54457 (217.8 sec), ~8.4 MB, data loaded>,\n",
       "  'labels': array([[0, 0, 0, ..., 2, 2, 2]])},\n",
       " 'subject_3': {'channels': array(['T5', 'T3', 'F7', 'F3', 'C3', 'P3', 'Fp1', 'Fpz', 'O1', 'Cz', 'Oz',\n",
       "         'Fz', 'O2', 'Fp2', 'P4', 'C4', 'F4', 'F8', 'T4', 'T6'], \n",
       "        dtype='<U3'),\n",
       "  'data': <RawArray  |  None, n_channels x n_times : 20 x 100717 (402.9 sec), ~15.4 MB, data loaded>,\n",
       "  'labels': array([[0, 0, 0, ..., 2, 2, 2]])}}"
      ]
     },
     "execution_count": 11,
     "metadata": {},
     "output_type": "execute_result"
    }
   ],
   "source": [
    "train_data = {}\n",
    "train_labels = {}\n",
    "\n",
    "with h5py.File(TRAIN_FILE, 'r') as data_file:\n",
    "    \n",
    "    for subject, subject_data in data_file.items():\n",
    "    \n",
    "        data = subject_data['data'][()]    \n",
    "    \n",
    "        data, selected_channels = process_raw_data(data)\n",
    "        train_data[subject] = {\n",
    "            'data': load_raw_data(data, selected_channels, montage_data),\n",
    "            'channels': selected_channels,\n",
    "            'labels':  subject_data['labels'][()]\n",
    "        } \n",
    "    \n",
    "train_data"
   ]
  },
  {
   "cell_type": "code",
   "execution_count": 12,
   "metadata": {
    "collapsed": false
   },
   "outputs": [
    {
     "data": {
      "text/plain": [
       "{'channels': array(['T5', 'T3', 'F7', 'F3', 'C3', 'P3', 'Fp1', 'Fpz', 'O1', 'Cz', 'Oz',\n",
       "        'Fz', 'O2', 'Fp2', 'P4', 'C4', 'F4', 'F8', 'T4', 'T6'], \n",
       "       dtype='<U3'),\n",
       " 'data': <RawArray  |  None, n_channels x n_times : 20 x 100826 (403.3 sec), ~15.4 MB, data loaded>,\n",
       " 'labels': array([[0, 0, 0, ..., 2, 2, 2]])}"
      ]
     },
     "execution_count": 12,
     "metadata": {},
     "output_type": "execute_result"
    }
   ],
   "source": [
    "subject_data = train_data['subject_0']\n",
    "subject_data"
   ]
  },
  {
   "cell_type": "code",
   "execution_count": 13,
   "metadata": {
    "collapsed": true
   },
   "outputs": [],
   "source": [
    "def azim_proj(pos):\n",
    "    \"\"\"\n",
    "    Computes the Azimuthal Equidistant Projection of input point in 3D Cartesian Coordinates.\n",
    "    Imagine a plane being placed against (tangent to) a globe. If\n",
    "    a light source inside the globe projects the graticule onto\n",
    "    the plane the result would be a planar, or azimuthal, map\n",
    "    projection.\n",
    "\n",
    "    :param pos: position in 3D Cartesian coordinates\n",
    "    :return: projected coordinates using Azimuthal Equidistant Projection\n",
    "    \"\"\"\n",
    "    [r, elev, az] = cart2sph(pos[0], pos[1], pos[2])\n",
    "    return pol2cart(az, m.pi / 2 - elev)"
   ]
  },
  {
   "cell_type": "code",
   "execution_count": 14,
   "metadata": {
    "collapsed": false
   },
   "outputs": [],
   "source": [
    "def gen_images(locs, features, img_size, normalize=True, n_bands=3,\n",
    "               augment=False, pca=False, stdMult=0.1, n_components=2, edgeless=False):\n",
    "    \"\"\"\n",
    "    Generates EEG images given electrode locations in 2D space and multiple feature values for each electrode\n",
    "\n",
    "    :param loc: An array with shape [n_electrodes, 2] containing X, Y\n",
    "                        coordinates for each electrode.\n",
    "    :param features: Feature matrix as [n_samples, n_features]\n",
    "                                Features are as columns.\n",
    "                                Features corresponding to each frequency band are concatenated.\n",
    "                                (alpha1, alpha2, ..., beta1, beta2,...)\n",
    "    :param img_size:    Number of pixels in the output images\n",
    "    :param normalize:   Flag for whether to normalize each feature over all samples\n",
    "    :param augment:     Flag for generating augmented images\n",
    "    :param pca:         Flag for PCA based data augmentation\n",
    "    :param stdMult:     Standard deviation of noise for augmentation\n",
    "    :param n_components: Number of components in PCA to retain for augmentation\n",
    "    :param edgeless:    If True generates edgeless images by adding artificial channels\n",
    "                        at four corners of th  e image with value = 0 (default=False).\n",
    "    :return:            Tensor of size [samples, colors, W, H] containing generated\n",
    "                        images.\n",
    "    \"\"\"\n",
    "\n",
    "    feat_array_temp = []\n",
    "    nElectrodes = locs.shape[0]     # Number of electrodes\n",
    "\n",
    "    # Test whether the feature vector length is divisible by number of electrodes\n",
    "    assert features.shape[1] % nElectrodes == 0\n",
    "    \n",
    "    n_colors = features.shape[1] // nElectrodes\n",
    "    \n",
    "    print('Colors: ' + str(n_colors))\n",
    "    \n",
    "    for c in range(n_colors):\n",
    "        feat_array_temp.append(features[:, c * nElectrodes : nElectrodes * (c+1)])\n",
    "\n",
    "    if augment:\n",
    "        if pca:\n",
    "            for c in range(n_colors):\n",
    "                feat_array_temp[c] = augment_EEG(feat_array_temp[c], stdMult, pca=True, n_components=n_components)\n",
    "        else:\n",
    "            for c in range(n_colors):\n",
    "                feat_array_temp[c] = augment_EEG(feat_array_temp[c], stdMult, pca=False, n_components=n_components)\n",
    "\n",
    "    nSamples = features.shape[0]\n",
    "    \n",
    "    minx, maxx = np.asscalar(min(locs[:, 0])), np.asscalar(max(locs[:, 0]))\n",
    "    miny, maxy = np.asscalar(min(locs[:, 1])), np.asscalar(max(locs[:, 1]))\n",
    "        \n",
    "    print('Minx:', minx, 'Maxx:', maxx)\n",
    "    print('Miny:', miny, 'Maxy:', maxy)\n",
    "    print('Image size', img_size, 'x', img_size)\n",
    "    \n",
    "    # Interpolate the values\n",
    "    grid_x, grid_y = np.meshgrid(np.linspace(minx, maxx, img_size), np.linspace(miny,maxy,img_size))\n",
    "    \n",
    "    temp_interp = []\n",
    "    for c in range(n_colors):\n",
    "        temp_interp.append(np.zeros([nSamples, img_size, img_size]))\n",
    "\n",
    "    # Generate edgeless images\n",
    "    if edgeless:\n",
    "        min_x, min_y = np.min(locs, axis=0)\n",
    "        max_x, max_y = np.max(locs, axis=0)\n",
    "        locs = np.append(locs, np.array([[min_x, min_y], [min_x, max_y],[max_x, min_y],[max_x, max_y]]),axis=0)\n",
    "        for c in range(n_colors):\n",
    "            feat_array_temp[c] = np.append(feat_array_temp[c], np.zeros((nSamples, 4)), axis=1)\n",
    "\n",
    "    for i in range(nSamples):\n",
    "        \n",
    "        if i%1000 == 0:\n",
    "            print('Interpolating {0}/{1}\\r'.format(i+1, nSamples))\n",
    "        \n",
    "        for c in range(n_colors):\n",
    "            values = feat_array_temp[c][i, :]\n",
    "            interpolated_values = griddata(locs, values, (grid_x, grid_y), method='cubic')\n",
    "            temp_interp[c][i, :, :] = np.nan_to_num(interpolated_values)\n",
    "\n",
    "    for c in range(n_colors):\n",
    "        if normalize:\n",
    "            temp_interp[c][~np.isnan(temp_interp[c])] = \\\n",
    "                scale(temp_interp[c][~np.isnan(temp_interp[c])])\n",
    "                \n",
    "    return np.swapaxes(np.asarray(temp_interp), 0, 1)     # swap axes to have [samples, colors, W, H]"
   ]
  },
  {
   "cell_type": "code",
   "execution_count": 15,
   "metadata": {
    "collapsed": true
   },
   "outputs": [],
   "source": [
    "import math as m\n",
    "import numpy as np\n",
    "import scipy.io\n",
    "from sklearn.decomposition import PCA\n",
    "\n",
    "def cart2sph(x, y, z):\n",
    "    \"\"\"\n",
    "    Transform Cartesian coordinates to spherical\n",
    "    :param x: X coordinate\n",
    "    :param y: Y coordinate\n",
    "    :param z: Z coordinate\n",
    "    :return: radius, elevation, azimuth\n",
    "    \"\"\"\n",
    "    x2_y2 = x**2 + y**2\n",
    "    r = m.sqrt(x2_y2 + z**2)                    # r\n",
    "    elev = m.atan2(z, m.sqrt(x2_y2))            # Elevation\n",
    "    az = m.atan2(y, x)                          # Azimuth\n",
    "    return r, elev, az\n",
    "\n",
    "\n",
    "def pol2cart(theta, rho):\n",
    "    \"\"\"\n",
    "    Transform polar coordinates to Cartesian\n",
    "    :param theta: angle value\n",
    "    :param rho: radius value\n",
    "    :return: X, Y\n",
    "    \"\"\"\n",
    "    return rho * m.cos(theta), rho * m.sin(theta)\n",
    "\n",
    "\n",
    "def augment_EEG(data, stdMult, pca=False, n_components=2):\n",
    "    \"\"\"\n",
    "    Augment data by adding normal noise to each feature.\n",
    "    :param data: EEG feature data as a matrix (n_samples x n_features)\n",
    "    :param stdMult: Multiplier for std of added noise\n",
    "    :param pca: if True will perform PCA on data and add noise proportional to PCA components.\n",
    "    :param n_components: Number of components to consider when using PCA.\n",
    "    :return: Augmented data as a matrix (n_samples x n_features)\n",
    "    \"\"\"\n",
    "    augData = np.zeros(data.shape)\n",
    "    if pca:\n",
    "        pca = PCA(n_components=n_components)\n",
    "        pca.fit(data)\n",
    "        components = pca.components_\n",
    "        variances = pca.explained_variance_ratio_\n",
    "        coeffs = np.random.normal(scale=stdMult, size=pca.n_components) * variances\n",
    "        for s, sample in enumerate(data):\n",
    "            augData[s, :] = sample + (components * coeffs.reshape((n_components, -1))).sum(axis=0)\n",
    "    else:\n",
    "        # Add Gaussian noise with std determined by weighted std of each feature\n",
    "        for f, feat in enumerate(data.transpose()):\n",
    "            augData[:, f] = feat + np.random.normal(scale=stdMult*np.std(feat), size=feat.size)\n",
    "    return augData\n",
    "\n",
    "\n",
    "def augment_EEG_image(image, stdMult, pca=False, n_components=2):\n",
    "    \"\"\"\n",
    "    Augment data by adding normal noise to each feature.\n",
    "    :param image: EEG feature data as a a colored image [n_samples, n_colors, W, H]\n",
    "    :param stdMult: Multiplier for std of added noise\n",
    "    :param pca: if True will perform PCA on data and add noise proportional to PCA components.\n",
    "    :param n_components: Number of components to consider when using PCA.\n",
    "    :return: Augmented data as a matrix (n_samples x n_features)\n",
    "    \"\"\"\n",
    "    augData = np.zeros((data.shape[0], data.shape[1], data.shape[2] * data.shape[3]))\n",
    "    for c in range(image.shape[1]):\n",
    "        reshData = np.reshape(data['featMat'][:, c, :, :], (data['featMat'].shape[0], -1))\n",
    "        if pca:\n",
    "            augData[:, c, :] = augment_EEG(reshData, stdMult, pca=True, n_components=n_components)\n",
    "        else:\n",
    "            augData[:, c, :] = augment_EEG(reshData, stdMult, pca=False)\n",
    "    return np.reshape(augData, data['featMat'].shape)"
   ]
  },
  {
   "cell_type": "code",
   "execution_count": 21,
   "metadata": {
    "collapsed": true
   },
   "outputs": [],
   "source": [
    "def process_subject_data(subject_data):\n",
    "    subject_df = subject_data['data'].to_data_frame(scale_time=1000)\n",
    "    subject_df['label'] = subject_data['labels'][0]\n",
    "    subject_df.index = pd.TimedeltaIndex(subject_df.index, unit='ms')\n",
    "    subject_df = subject_df.resample('100ms').mean()\n",
    "    features = subject_df.ix[:, subject_df.columns != 'label'].as_matrix()\n",
    "    X = gen_images(electrode_positions, features, img_size=32, augment=True, pca=True, n_components=2)\n",
    "    y = subject_df['label']\n",
    "    return X, y"
   ]
  },
  {
   "cell_type": "code",
   "execution_count": 18,
   "metadata": {
    "collapsed": false
   },
   "outputs": [
    {
     "name": "stdout",
     "output_type": "stream",
     "text": [
      "(21, 2)\n"
     ]
    }
   ],
   "source": [
    "pos3d = montage_data.pos\n",
    "pos2d = np.matrix([azim_proj(p) for p in pos3d])\n",
    "\n",
    "print(pos2d.shape)"
   ]
  },
  {
   "cell_type": "code",
   "execution_count": 19,
   "metadata": {
    "collapsed": false
   },
   "outputs": [
    {
     "name": "stdout",
     "output_type": "stream",
     "text": [
      "(20, 2)\n"
     ]
    }
   ],
   "source": [
    "used_electrodes_index = [c in subject_data['channels'] for c in montage_data.ch_names]\n",
    "electrode_positions = pos2d[np.array(used_electrodes_index), :]\n",
    "\n",
    "print(electrode_positions.shape)"
   ]
  },
  {
   "cell_type": "code",
   "execution_count": 22,
   "metadata": {
    "collapsed": false
   },
   "outputs": [
    {
     "name": "stdout",
     "output_type": "stream",
     "text": [
      "Converting time column to int64...\n",
      "Colors: 1\n",
      "Minx: -1.2042769839295635 Maxx: 1.2042769839295635\n",
      "Miny: -1.6057024093979915 Maxy: 1.6057024093979915\n",
      "Image size 32 x 32\n",
      "Interpolating 1/4034\n",
      "Interpolating 1001/4034\n",
      "Interpolating 2001/4034\n",
      "Interpolating 3001/4034\n",
      "Interpolating 4001/4034\n"
     ]
    }
   ],
   "source": [
    "X_train, y_train = process_subject_data(train_data['subject_0'])"
   ]
  },
  {
   "cell_type": "code",
   "execution_count": 23,
   "metadata": {
    "collapsed": false
   },
   "outputs": [
    {
     "name": "stdout",
     "output_type": "stream",
     "text": [
      "Converting time column to int64...\n",
      "Colors: 1\n",
      "Minx: -1.2042769839295635 Maxx: 1.2042769839295635\n",
      "Miny: -1.6057024093979915 Maxy: 1.6057024093979915\n",
      "Image size 32 x 32\n",
      "Interpolating 1/2213\n",
      "Interpolating 1001/2213\n",
      "Interpolating 2001/2213\n"
     ]
    }
   ],
   "source": [
    "X_test, y_test = process_subject_data(train_data['subject_1'])"
   ]
  },
  {
   "cell_type": "code",
   "execution_count": 24,
   "metadata": {
    "collapsed": true
   },
   "outputs": [],
   "source": [
    "def show_image(image):\n",
    "    pixel_data = np.apply_along_axis(np.asscalar, 2, image.transpose(1,2,0))\n",
    "    plt.imshow(pixel_data)"
   ]
  },
  {
   "cell_type": "code",
   "execution_count": 29,
   "metadata": {
    "collapsed": false
   },
   "outputs": [
    {
     "name": "stdout",
     "output_type": "stream",
     "text": [
      "X_train shape: (4034, 32, 32, 1)\n",
      "4034 train samples\n",
      "2213 test samples\n"
     ]
    },
    {
     "name": "stderr",
     "output_type": "stream",
     "text": [
      "/home/ubuntu/anaconda3/envs/py3_env/lib/python3.5/site-packages/keras/utils/np_utils.py:23: VisibleDeprecationWarning: using a non-integer number instead of an integer will result in an error in the future\n",
      "  Y[i, y[i]] = 1.\n"
     ]
    },
    {
     "name": "stdout",
     "output_type": "stream",
     "text": [
      "Train on 4034 samples, validate on 2213 samples\n",
      "Epoch 1/12\n",
      "2432/4034 [=================>............] - ETA: 13s - loss: 1.0987 - acc: 0.3351"
     ]
    },
    {
     "ename": "KeyboardInterrupt",
     "evalue": "",
     "output_type": "error",
     "traceback": [
      "\u001b[0;31m---------------------------------------------------------------------------\u001b[0m",
      "\u001b[0;31mKeyboardInterrupt\u001b[0m                         Traceback (most recent call last)",
      "\u001b[0;32m<ipython-input-29-c119b3595c3d>\u001b[0m in \u001b[0;36m<module>\u001b[0;34m()\u001b[0m\n\u001b[1;32m     62\u001b[0m \u001b[0;34m\u001b[0m\u001b[0m\n\u001b[1;32m     63\u001b[0m model.fit(X_train, Y_train, batch_size=batch_size, nb_epoch=nb_epoch,\n\u001b[0;32m---> 64\u001b[0;31m           verbose=1, validation_data=(X_test, Y_test))\n\u001b[0m\u001b[1;32m     65\u001b[0m \u001b[0;34m\u001b[0m\u001b[0m\n\u001b[1;32m     66\u001b[0m \u001b[0mscore\u001b[0m \u001b[0;34m=\u001b[0m \u001b[0mmodel\u001b[0m\u001b[0;34m.\u001b[0m\u001b[0mevaluate\u001b[0m\u001b[0;34m(\u001b[0m\u001b[0mX_test\u001b[0m\u001b[0;34m,\u001b[0m \u001b[0mY_test\u001b[0m\u001b[0;34m,\u001b[0m \u001b[0mverbose\u001b[0m\u001b[0;34m=\u001b[0m\u001b[0;36m0\u001b[0m\u001b[0;34m)\u001b[0m\u001b[0;34m\u001b[0m\u001b[0m\n",
      "\u001b[0;32m/home/ubuntu/anaconda3/envs/py3_env/lib/python3.5/site-packages/keras/models.py\u001b[0m in \u001b[0;36mfit\u001b[0;34m(self, x, y, batch_size, nb_epoch, verbose, callbacks, validation_split, validation_data, shuffle, class_weight, sample_weight, **kwargs)\u001b[0m\n\u001b[1;32m    625\u001b[0m                               \u001b[0mshuffle\u001b[0m\u001b[0;34m=\u001b[0m\u001b[0mshuffle\u001b[0m\u001b[0;34m,\u001b[0m\u001b[0;34m\u001b[0m\u001b[0m\n\u001b[1;32m    626\u001b[0m                               \u001b[0mclass_weight\u001b[0m\u001b[0;34m=\u001b[0m\u001b[0mclass_weight\u001b[0m\u001b[0;34m,\u001b[0m\u001b[0;34m\u001b[0m\u001b[0m\n\u001b[0;32m--> 627\u001b[0;31m                               sample_weight=sample_weight)\n\u001b[0m\u001b[1;32m    628\u001b[0m \u001b[0;34m\u001b[0m\u001b[0m\n\u001b[1;32m    629\u001b[0m     def evaluate(self, x, y, batch_size=32, verbose=1,\n",
      "\u001b[0;32m/home/ubuntu/anaconda3/envs/py3_env/lib/python3.5/site-packages/keras/engine/training.py\u001b[0m in \u001b[0;36mfit\u001b[0;34m(self, x, y, batch_size, nb_epoch, verbose, callbacks, validation_split, validation_data, shuffle, class_weight, sample_weight)\u001b[0m\n\u001b[1;32m   1122\u001b[0m                               \u001b[0mverbose\u001b[0m\u001b[0;34m=\u001b[0m\u001b[0mverbose\u001b[0m\u001b[0;34m,\u001b[0m \u001b[0mcallbacks\u001b[0m\u001b[0;34m=\u001b[0m\u001b[0mcallbacks\u001b[0m\u001b[0;34m,\u001b[0m\u001b[0;34m\u001b[0m\u001b[0m\n\u001b[1;32m   1123\u001b[0m                               \u001b[0mval_f\u001b[0m\u001b[0;34m=\u001b[0m\u001b[0mval_f\u001b[0m\u001b[0;34m,\u001b[0m \u001b[0mval_ins\u001b[0m\u001b[0;34m=\u001b[0m\u001b[0mval_ins\u001b[0m\u001b[0;34m,\u001b[0m \u001b[0mshuffle\u001b[0m\u001b[0;34m=\u001b[0m\u001b[0mshuffle\u001b[0m\u001b[0;34m,\u001b[0m\u001b[0;34m\u001b[0m\u001b[0m\n\u001b[0;32m-> 1124\u001b[0;31m                               callback_metrics=callback_metrics)\n\u001b[0m\u001b[1;32m   1125\u001b[0m \u001b[0;34m\u001b[0m\u001b[0m\n\u001b[1;32m   1126\u001b[0m     \u001b[0;32mdef\u001b[0m \u001b[0mevaluate\u001b[0m\u001b[0;34m(\u001b[0m\u001b[0mself\u001b[0m\u001b[0;34m,\u001b[0m \u001b[0mx\u001b[0m\u001b[0;34m,\u001b[0m \u001b[0my\u001b[0m\u001b[0;34m,\u001b[0m \u001b[0mbatch_size\u001b[0m\u001b[0;34m=\u001b[0m\u001b[0;36m32\u001b[0m\u001b[0;34m,\u001b[0m \u001b[0mverbose\u001b[0m\u001b[0;34m=\u001b[0m\u001b[0;36m1\u001b[0m\u001b[0;34m,\u001b[0m \u001b[0msample_weight\u001b[0m\u001b[0;34m=\u001b[0m\u001b[0;32mNone\u001b[0m\u001b[0;34m)\u001b[0m\u001b[0;34m:\u001b[0m\u001b[0;34m\u001b[0m\u001b[0m\n",
      "\u001b[0;32m/home/ubuntu/anaconda3/envs/py3_env/lib/python3.5/site-packages/keras/engine/training.py\u001b[0m in \u001b[0;36m_fit_loop\u001b[0;34m(self, f, ins, out_labels, batch_size, nb_epoch, verbose, callbacks, val_f, val_ins, shuffle, callback_metrics)\u001b[0m\n\u001b[1;32m    840\u001b[0m                 \u001b[0mbatch_logs\u001b[0m\u001b[0;34m[\u001b[0m\u001b[0;34m'size'\u001b[0m\u001b[0;34m]\u001b[0m \u001b[0;34m=\u001b[0m \u001b[0mlen\u001b[0m\u001b[0;34m(\u001b[0m\u001b[0mbatch_ids\u001b[0m\u001b[0;34m)\u001b[0m\u001b[0;34m\u001b[0m\u001b[0m\n\u001b[1;32m    841\u001b[0m                 \u001b[0mcallbacks\u001b[0m\u001b[0;34m.\u001b[0m\u001b[0mon_batch_begin\u001b[0m\u001b[0;34m(\u001b[0m\u001b[0mbatch_index\u001b[0m\u001b[0;34m,\u001b[0m \u001b[0mbatch_logs\u001b[0m\u001b[0;34m)\u001b[0m\u001b[0;34m\u001b[0m\u001b[0m\n\u001b[0;32m--> 842\u001b[0;31m                 \u001b[0mouts\u001b[0m \u001b[0;34m=\u001b[0m \u001b[0mf\u001b[0m\u001b[0;34m(\u001b[0m\u001b[0mins_batch\u001b[0m\u001b[0;34m)\u001b[0m\u001b[0;34m\u001b[0m\u001b[0m\n\u001b[0m\u001b[1;32m    843\u001b[0m                 \u001b[0;32mif\u001b[0m \u001b[0mtype\u001b[0m\u001b[0;34m(\u001b[0m\u001b[0mouts\u001b[0m\u001b[0;34m)\u001b[0m \u001b[0;34m!=\u001b[0m \u001b[0mlist\u001b[0m\u001b[0;34m:\u001b[0m\u001b[0;34m\u001b[0m\u001b[0m\n\u001b[1;32m    844\u001b[0m                     \u001b[0mouts\u001b[0m \u001b[0;34m=\u001b[0m \u001b[0;34m[\u001b[0m\u001b[0mouts\u001b[0m\u001b[0;34m]\u001b[0m\u001b[0;34m\u001b[0m\u001b[0m\n",
      "\u001b[0;32m/home/ubuntu/anaconda3/envs/py3_env/lib/python3.5/site-packages/keras/backend/tensorflow_backend.py\u001b[0m in \u001b[0;36m__call__\u001b[0;34m(self, inputs)\u001b[0m\n\u001b[1;32m   1038\u001b[0m             \u001b[0mfeed_dict\u001b[0m\u001b[0;34m[\u001b[0m\u001b[0mtensor\u001b[0m\u001b[0;34m]\u001b[0m \u001b[0;34m=\u001b[0m \u001b[0mvalue\u001b[0m\u001b[0;34m\u001b[0m\u001b[0m\n\u001b[1;32m   1039\u001b[0m         \u001b[0msession\u001b[0m \u001b[0;34m=\u001b[0m \u001b[0mget_session\u001b[0m\u001b[0;34m(\u001b[0m\u001b[0;34m)\u001b[0m\u001b[0;34m\u001b[0m\u001b[0m\n\u001b[0;32m-> 1040\u001b[0;31m         \u001b[0mupdated\u001b[0m \u001b[0;34m=\u001b[0m \u001b[0msession\u001b[0m\u001b[0;34m.\u001b[0m\u001b[0mrun\u001b[0m\u001b[0;34m(\u001b[0m\u001b[0mself\u001b[0m\u001b[0;34m.\u001b[0m\u001b[0moutputs\u001b[0m \u001b[0;34m+\u001b[0m \u001b[0;34m[\u001b[0m\u001b[0mself\u001b[0m\u001b[0;34m.\u001b[0m\u001b[0mupdates_op\u001b[0m\u001b[0;34m]\u001b[0m\u001b[0;34m,\u001b[0m \u001b[0mfeed_dict\u001b[0m\u001b[0;34m=\u001b[0m\u001b[0mfeed_dict\u001b[0m\u001b[0;34m)\u001b[0m\u001b[0;34m\u001b[0m\u001b[0m\n\u001b[0m\u001b[1;32m   1041\u001b[0m         \u001b[0;32mreturn\u001b[0m \u001b[0mupdated\u001b[0m\u001b[0;34m[\u001b[0m\u001b[0;34m:\u001b[0m\u001b[0mlen\u001b[0m\u001b[0;34m(\u001b[0m\u001b[0mself\u001b[0m\u001b[0;34m.\u001b[0m\u001b[0moutputs\u001b[0m\u001b[0;34m)\u001b[0m\u001b[0;34m]\u001b[0m\u001b[0;34m\u001b[0m\u001b[0m\n\u001b[1;32m   1042\u001b[0m \u001b[0;34m\u001b[0m\u001b[0m\n",
      "\u001b[0;32m/home/ubuntu/anaconda3/envs/py3_env/lib/python3.5/site-packages/tensorflow/python/client/session.py\u001b[0m in \u001b[0;36mrun\u001b[0;34m(self, fetches, feed_dict, options, run_metadata)\u001b[0m\n\u001b[1;32m    380\u001b[0m     \u001b[0;32mtry\u001b[0m\u001b[0;34m:\u001b[0m\u001b[0;34m\u001b[0m\u001b[0m\n\u001b[1;32m    381\u001b[0m       result = self._run(None, fetches, feed_dict, options_ptr,\n\u001b[0;32m--> 382\u001b[0;31m                          run_metadata_ptr)\n\u001b[0m\u001b[1;32m    383\u001b[0m       \u001b[0;32mif\u001b[0m \u001b[0mrun_metadata\u001b[0m\u001b[0;34m:\u001b[0m\u001b[0;34m\u001b[0m\u001b[0m\n\u001b[1;32m    384\u001b[0m         \u001b[0mproto_data\u001b[0m \u001b[0;34m=\u001b[0m \u001b[0mtf_session\u001b[0m\u001b[0;34m.\u001b[0m\u001b[0mTF_GetBuffer\u001b[0m\u001b[0;34m(\u001b[0m\u001b[0mrun_metadata_ptr\u001b[0m\u001b[0;34m)\u001b[0m\u001b[0;34m\u001b[0m\u001b[0m\n",
      "\u001b[0;32m/home/ubuntu/anaconda3/envs/py3_env/lib/python3.5/site-packages/tensorflow/python/client/session.py\u001b[0m in \u001b[0;36m_run\u001b[0;34m(self, handle, fetches, feed_dict, options, run_metadata)\u001b[0m\n\u001b[1;32m    653\u001b[0m     \u001b[0mmovers\u001b[0m \u001b[0;34m=\u001b[0m \u001b[0mself\u001b[0m\u001b[0;34m.\u001b[0m\u001b[0m_update_with_movers\u001b[0m\u001b[0;34m(\u001b[0m\u001b[0mfeed_dict_string\u001b[0m\u001b[0;34m,\u001b[0m \u001b[0mfeed_map\u001b[0m\u001b[0;34m)\u001b[0m\u001b[0;34m\u001b[0m\u001b[0m\n\u001b[1;32m    654\u001b[0m     results = self._do_run(handle, target_list, unique_fetches,\n\u001b[0;32m--> 655\u001b[0;31m                            feed_dict_string, options, run_metadata)\n\u001b[0m\u001b[1;32m    656\u001b[0m \u001b[0;34m\u001b[0m\u001b[0m\n\u001b[1;32m    657\u001b[0m     \u001b[0;31m# User may have fetched the same tensor multiple times, but we\u001b[0m\u001b[0;34m\u001b[0m\u001b[0;34m\u001b[0m\u001b[0m\n",
      "\u001b[0;32m/home/ubuntu/anaconda3/envs/py3_env/lib/python3.5/site-packages/tensorflow/python/client/session.py\u001b[0m in \u001b[0;36m_do_run\u001b[0;34m(self, handle, target_list, fetch_list, feed_dict, options, run_metadata)\u001b[0m\n\u001b[1;32m    721\u001b[0m     \u001b[0;32mif\u001b[0m \u001b[0mhandle\u001b[0m \u001b[0;32mis\u001b[0m \u001b[0;32mNone\u001b[0m\u001b[0;34m:\u001b[0m\u001b[0;34m\u001b[0m\u001b[0m\n\u001b[1;32m    722\u001b[0m       return self._do_call(_run_fn, self._session, feed_dict, fetch_list,\n\u001b[0;32m--> 723\u001b[0;31m                            target_list, options, run_metadata)\n\u001b[0m\u001b[1;32m    724\u001b[0m     \u001b[0;32melse\u001b[0m\u001b[0;34m:\u001b[0m\u001b[0;34m\u001b[0m\u001b[0m\n\u001b[1;32m    725\u001b[0m       return self._do_call(_prun_fn, self._session, handle, feed_dict,\n",
      "\u001b[0;32m/home/ubuntu/anaconda3/envs/py3_env/lib/python3.5/site-packages/tensorflow/python/client/session.py\u001b[0m in \u001b[0;36m_do_call\u001b[0;34m(self, fn, *args)\u001b[0m\n\u001b[1;32m    728\u001b[0m   \u001b[0;32mdef\u001b[0m \u001b[0m_do_call\u001b[0m\u001b[0;34m(\u001b[0m\u001b[0mself\u001b[0m\u001b[0;34m,\u001b[0m \u001b[0mfn\u001b[0m\u001b[0;34m,\u001b[0m \u001b[0;34m*\u001b[0m\u001b[0margs\u001b[0m\u001b[0;34m)\u001b[0m\u001b[0;34m:\u001b[0m\u001b[0;34m\u001b[0m\u001b[0m\n\u001b[1;32m    729\u001b[0m     \u001b[0;32mtry\u001b[0m\u001b[0;34m:\u001b[0m\u001b[0;34m\u001b[0m\u001b[0m\n\u001b[0;32m--> 730\u001b[0;31m       \u001b[0;32mreturn\u001b[0m \u001b[0mfn\u001b[0m\u001b[0;34m(\u001b[0m\u001b[0;34m*\u001b[0m\u001b[0margs\u001b[0m\u001b[0;34m)\u001b[0m\u001b[0;34m\u001b[0m\u001b[0m\n\u001b[0m\u001b[1;32m    731\u001b[0m     \u001b[0;32mexcept\u001b[0m \u001b[0merrors\u001b[0m\u001b[0;34m.\u001b[0m\u001b[0mOpError\u001b[0m \u001b[0;32mas\u001b[0m \u001b[0me\u001b[0m\u001b[0;34m:\u001b[0m\u001b[0;34m\u001b[0m\u001b[0m\n\u001b[1;32m    732\u001b[0m       \u001b[0mmessage\u001b[0m \u001b[0;34m=\u001b[0m \u001b[0mcompat\u001b[0m\u001b[0;34m.\u001b[0m\u001b[0mas_text\u001b[0m\u001b[0;34m(\u001b[0m\u001b[0me\u001b[0m\u001b[0;34m.\u001b[0m\u001b[0mmessage\u001b[0m\u001b[0;34m)\u001b[0m\u001b[0;34m\u001b[0m\u001b[0m\n",
      "\u001b[0;32m/home/ubuntu/anaconda3/envs/py3_env/lib/python3.5/site-packages/tensorflow/python/client/session.py\u001b[0m in \u001b[0;36m_run_fn\u001b[0;34m(session, feed_dict, fetch_list, target_list, options, run_metadata)\u001b[0m\n\u001b[1;32m    710\u001b[0m         return tf_session.TF_Run(session, options,\n\u001b[1;32m    711\u001b[0m                                  \u001b[0mfeed_dict\u001b[0m\u001b[0;34m,\u001b[0m \u001b[0mfetch_list\u001b[0m\u001b[0;34m,\u001b[0m \u001b[0mtarget_list\u001b[0m\u001b[0;34m,\u001b[0m\u001b[0;34m\u001b[0m\u001b[0m\n\u001b[0;32m--> 712\u001b[0;31m                                  status, run_metadata)\n\u001b[0m\u001b[1;32m    713\u001b[0m \u001b[0;34m\u001b[0m\u001b[0m\n\u001b[1;32m    714\u001b[0m     \u001b[0;32mdef\u001b[0m \u001b[0m_prun_fn\u001b[0m\u001b[0;34m(\u001b[0m\u001b[0msession\u001b[0m\u001b[0;34m,\u001b[0m \u001b[0mhandle\u001b[0m\u001b[0;34m,\u001b[0m \u001b[0mfeed_dict\u001b[0m\u001b[0;34m,\u001b[0m \u001b[0mfetch_list\u001b[0m\u001b[0;34m)\u001b[0m\u001b[0;34m:\u001b[0m\u001b[0;34m\u001b[0m\u001b[0m\n",
      "\u001b[0;31mKeyboardInterrupt\u001b[0m: "
     ]
    }
   ],
   "source": [
    "from keras.datasets import mnist\n",
    "from keras.models import Sequential\n",
    "from keras.layers import Dense, Dropout, Activation, Flatten\n",
    "from keras.layers import Convolution2D, MaxPooling2D\n",
    "from keras.utils import np_utils\n",
    "from keras import backend as K\n",
    "\n",
    "batch_size = 128\n",
    "nb_classes = 3\n",
    "nb_epoch = 12\n",
    "\n",
    "# input image dimensions\n",
    "img_rows, img_cols = 32, 32\n",
    "# number of convolutional filters to use\n",
    "nb_filters = 32\n",
    "# size of pooling area for max pooling\n",
    "pool_size = (2, 2)\n",
    "# convolution kernel size\n",
    "kernel_size = (6, 6)\n",
    "\n",
    "print('X_train shape:', X_train.shape)\n",
    "print(X_train.shape[0], 'train samples')\n",
    "print(X_test.shape[0], 'test samples')\n",
    "\n",
    "if K.image_dim_ordering() == 'th':\n",
    "    X_train = X_train.reshape(X_train.shape[0], 1, img_rows, img_cols)\n",
    "    X_test = X_test.reshape(X_test.shape[0], 1, img_rows, img_cols)\n",
    "    input_shape = (1, img_rows, img_cols)\n",
    "else:\n",
    "    X_train = X_train.reshape(X_train.shape[0], img_rows, img_cols, 1)\n",
    "    X_test = X_test.reshape(X_test.shape[0], img_rows, img_cols, 1)\n",
    "    input_shape = (img_rows, img_cols, 1)\n",
    "\n",
    "X_train = X_train.astype('float32')\n",
    "X_test = X_test.astype('float32')\n",
    "\n",
    "# convert class vectors to binary class matrices\n",
    "Y_train = np_utils.to_categorical(y_train, nb_classes)\n",
    "Y_test = np_utils.to_categorical(y_test, nb_classes)\n",
    "\n",
    "model = Sequential()\n",
    "\n",
    "model.add(Convolution2D(nb_filters, kernel_size[0], kernel_size[1],\n",
    "                        border_mode='valid',\n",
    "                        input_shape=input_shape))\n",
    "model.add(Activation('relu'))\n",
    "model.add(Convolution2D(nb_filters, kernel_size[0], kernel_size[1]))\n",
    "model.add(Activation('relu'))\n",
    "model.add(MaxPooling2D(pool_size=pool_size))\n",
    "model.add(Dropout(0.25))\n",
    "\n",
    "model.add(Flatten())\n",
    "model.add(Dense(128))\n",
    "model.add(Activation('relu'))\n",
    "model.add(Dropout(0.2))\n",
    "model.add(Dense(nb_classes))\n",
    "model.add(Activation('softmax'))\n",
    "\n",
    "model.compile(loss='categorical_crossentropy',\n",
    "              optimizer='adadelta',\n",
    "              metrics=['accuracy'])\n",
    "\n",
    "model.fit(X_train, Y_train, batch_size=batch_size, nb_epoch=nb_epoch,\n",
    "          verbose=1, validation_data=(X_test, Y_test))\n",
    "\n",
    "score = model.evaluate(X_test, Y_test, verbose=0)\n",
    "print('Test score:', score[0])\n",
    "print('Test accuracy:', score[1])"
   ]
  },
  {
   "cell_type": "code",
   "execution_count": null,
   "metadata": {
    "collapsed": true
   },
   "outputs": [],
   "source": [
    "X_test = X_test.astype('float32')\n",
    "print(X_test.shape[0], 'test samples')\n",
    "X_test /= 255\n",
    "Y_test = np_utils.to_categorical(y_test, nb_classes)\n",
    "\n",
    "score = model.evaluate(X_test, Y_test, verbose=0)\n",
    "print('Test score:', score[0])\n",
    "print('Test accuracy:', score[1])"
   ]
  }
 ],
 "metadata": {
  "anaconda-cloud": {},
  "kernelspec": {
   "display_name": "Python [conda env:py3_env]",
   "language": "python",
   "name": "conda-env-py3_env-py"
  },
  "language_info": {
   "codemirror_mode": {
    "name": "ipython",
    "version": 3
   },
   "file_extension": ".py",
   "mimetype": "text/x-python",
   "name": "python",
   "nbconvert_exporter": "python",
   "pygments_lexer": "ipython3",
   "version": "3.5.2"
  }
 },
 "nbformat": 4,
 "nbformat_minor": 1
}
